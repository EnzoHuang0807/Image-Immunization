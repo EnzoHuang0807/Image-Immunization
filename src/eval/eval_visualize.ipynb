{
 "cells": [
  {
   "cell_type": "code",
   "execution_count": null,
   "metadata": {},
   "outputs": [],
   "source": [
    "import torch\n",
    "\n",
    "\n",
    "def get_dir_name_from_config(mode, g_mode, using_target, eps=16, steps=100, \n",
    "                            target_rate=5, prefix='../../evaluation'):\n",
    "    \n",
    "    if using_target and mode == 'sds':\n",
    "        mode_name = f'sdsT{target_rate}'\n",
    "    else:\n",
    "        mode_name = mode\n",
    "    dir_name = f'{prefix}/{mode_name}_eps{eps}_steps{steps}_gmode{g_mode}/'\n",
    "    return dir_name\n",
    "\n",
    "\n",
    "EXP_LIST = [\n",
    "    ('advdm', '+', False, -1),\n",
    "    ('advdm', '-', False, -1),\n",
    "    ('mist', '+', False, -1),\n",
    "    ('sds', '+', False, -1),\n",
    "    ('sds', '-', False, -1),\n",
    "    ('sds', '-', True, 1),\n",
    "    ('sds', '-', True, 5),\n",
    "    ('texture_only', '+', False, -1)\n",
    "]"
   ]
  },
  {
   "cell_type": "code",
   "execution_count": null,
   "metadata": {},
   "outputs": [],
   "source": [
    "for exp_config in EXP_LIST:\n",
    "    \n",
    "    mode, g_mode, using_target, target_rate = exp_config\n",
    "    metrics_dir = get_dir_name_from_config(mode, g_mode, using_target, target_rate=target_rate)\n",
    "\n",
    "    torch.load(metrics_dir + '/inpaint_metrics.bin')\n",
    "    torch.load(metrics_dir + '/adv_metrics.bin')"
   ]
  }
 ],
 "metadata": {
  "kernelspec": {
   "display_name": "image_immune",
   "language": "python",
   "name": "python3"
  },
  "language_info": {
   "name": "python",
   "version": "3.11.9"
  }
 },
 "nbformat": 4,
 "nbformat_minor": 2
}
