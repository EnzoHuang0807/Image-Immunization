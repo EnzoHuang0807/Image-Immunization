{
 "cells": [
  {
   "cell_type": "code",
   "execution_count": 5,
   "metadata": {},
   "outputs": [],
   "source": [
    "import torch\n",
    "\n",
    "\n",
    "def get_dir_name_from_config(mode, g_mode, using_target, eps=16, steps=100, \n",
    "                            target_rate=5, prefix='../eval'):\n",
    "    if mode == 'none':\n",
    "        return f'{prefix}/none/'\n",
    "    \n",
    "    if using_target and mode == 'sds':\n",
    "        mode_name = f'sdsT{target_rate}'\n",
    "    else:\n",
    "        mode_name = mode\n",
    "    dir_name = f'{prefix}/{mode_name}_eps{eps}_steps{steps}_gmode{g_mode}/'\n",
    "    return dir_name\n",
    "\n",
    "def mean(score_list):\n",
    "    return round(sum(score_list) / len(score_list), 3)\n",
    "\n",
    "# EXP_LIST = [\n",
    "#     ('advdm', '+', False, -1),\n",
    "#     ('advdm', '-', False, -1),\n",
    "#     ('mist', '+', False, -1),\n",
    "#     ('sds', '+', False, -1),\n",
    "#     ('sds', '-', False, -1),\n",
    "#     ('sds', '-', True, 5),\n",
    "#     ('texture_only', '+', False, -1),\n",
    "#     ('none', '-', False, -1)\n",
    "# ]\n",
    "EXP_LIST = [\n",
    "    ('mist', '+', False, -1),\n",
    "    ('mist', '-', False, -1),\n",
    "    ('texture_only', '+', False, -1),\n",
    "    ('texture_only', '-', False, -1),\n",
    "    ('none', '-', False, -1)\n",
    "]"
   ]
  },
  {
   "cell_type": "code",
   "execution_count": 6,
   "metadata": {},
   "outputs": [],
   "source": [
    "import warnings\n",
    "warnings.filterwarnings('ignore')"
   ]
  },
  {
   "cell_type": "code",
   "execution_count": 7,
   "metadata": {},
   "outputs": [
    {
     "name": "stdout",
     "output_type": "stream",
     "text": [
      "/mist_eps16_steps100_gmode+/\n",
      "29.473 0.754 0.235\n",
      "28.652 0.571 0.369 28.359\n",
      "---------------\n",
      "/mist_eps16_steps100_gmode-/\n",
      "29.94 0.741 0.256\n",
      "28.499 0.505 0.455 29.022\n",
      "---------------\n",
      "/texture_only_eps16_steps100_gmode+/\n",
      "29.528 0.752 0.228\n",
      "28.69 0.572 0.372 28.685\n",
      "---------------\n",
      "/texture_only_eps16_steps100_gmode-/\n",
      "29.93 0.739 0.257\n",
      "28.512 0.501 0.46 28.529\n",
      "---------------\n",
      "/none/\n",
      "100.0 1.0 0.0\n",
      "100.0 1.0 0.0 28.827\n",
      "---------------\n"
     ]
    }
   ],
   "source": [
    "for exp_config in EXP_LIST:\n",
    "    \n",
    "    mode, g_mode, using_target, target_rate = exp_config\n",
    "    metrics_dir = get_dir_name_from_config(mode, g_mode, using_target, target_rate=target_rate)\n",
    "\n",
    "    adv_metrics = torch.load(metrics_dir + 'adv_metrics.bin')\n",
    "    inpaint_metrics = torch.load(metrics_dir + 'inpaint_metrics.bin')\n",
    "    \n",
    "    print(get_dir_name_from_config(mode, g_mode, using_target, target_rate=target_rate, prefix=\"\"))\n",
    "    print(mean(adv_metrics[\"psnr\"]), mean(adv_metrics[\"ssim\"]),\n",
    "        mean(adv_metrics[\"lpips\"]))\n",
    "    print(mean(inpaint_metrics[\"psnr\"]), mean(inpaint_metrics[\"ssim\"]),\n",
    "        mean(inpaint_metrics[\"lpips\"]), mean(inpaint_metrics[\"clip_score\"]))\n",
    "    print(\"---------------\")\n"
   ]
  }
 ],
 "metadata": {
  "kernelspec": {
   "display_name": "image_immune",
   "language": "python",
   "name": "python3"
  },
  "language_info": {
   "codemirror_mode": {
    "name": "ipython",
    "version": 3
   },
   "file_extension": ".py",
   "mimetype": "text/x-python",
   "name": "python",
   "nbconvert_exporter": "python",
   "pygments_lexer": "ipython3",
   "version": "3.11.9"
  }
 },
 "nbformat": 4,
 "nbformat_minor": 2
}
